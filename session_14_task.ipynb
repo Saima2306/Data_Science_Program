{
 "cells": [
  {
   "cell_type": "markdown",
   "metadata": {
    "id": "1uamk9vAix0o"
   },
   "source": [
    "###`Q-1:` Find the nearest element in the array to a given integer.\n",
    "```\n",
    "Ex:-\n",
    "a=23 and array - [10 17 24 31 38 45 52 59].\n",
    "Nearest element is 24\n",
    "```\n",
    "Hint: Read about this function `argmin()`"
   ]
  },
  {
   "cell_type": "code",
   "execution_count": 2,
   "metadata": {},
   "outputs": [],
   "source": [
    "import numpy as np"
   ]
  },
  {
   "cell_type": "code",
   "execution_count": 36,
   "metadata": {
    "id": "ddkpbpR6iySZ"
   },
   "outputs": [
    {
     "ename": "KeyboardInterrupt",
     "evalue": "",
     "output_type": "error",
     "traceback": [
      "\u001b[1;31m---------------------------------------------------------------------------\u001b[0m",
      "\u001b[1;31mKeyboardInterrupt\u001b[0m                         Traceback (most recent call last)",
      "Input \u001b[1;32mIn [36]\u001b[0m, in \u001b[0;36m<cell line: 36>\u001b[1;34m()\u001b[0m\n\u001b[0;32m     34\u001b[0m             i\u001b[38;5;241m=\u001b[39mmid\u001b[38;5;241m+\u001b[39m\u001b[38;5;241m1\u001b[39m\n\u001b[0;32m     35\u001b[0m     \u001b[38;5;28;01mreturn\u001b[39;00m array[mid]\n\u001b[1;32m---> 36\u001b[0m \u001b[38;5;28mprint\u001b[39m(\u001b[43mfinal_closest_point\u001b[49m\u001b[43m(\u001b[49m\u001b[43marray\u001b[49m\u001b[43m,\u001b[49m\u001b[43mn\u001b[49m\u001b[43m,\u001b[49m\u001b[43mtarget\u001b[49m\u001b[43m)\u001b[49m)\n",
      "Input \u001b[1;32mIn [36]\u001b[0m, in \u001b[0;36mfinal_closest_point\u001b[1;34m(array, n, target)\u001b[0m\n\u001b[0;32m     23\u001b[0m \u001b[38;5;28;01mif\u001b[39;00m target \u001b[38;5;241m==\u001b[39m array[mid]:\n\u001b[0;32m     24\u001b[0m     \u001b[38;5;28;01mreturn\u001b[39;00m array[mid]\n\u001b[1;32m---> 25\u001b[0m \u001b[38;5;28;01mif\u001b[39;00m \u001b[43mtarget\u001b[49m\u001b[38;5;241;43m<\u001b[39;49m\u001b[43marray\u001b[49m\u001b[43m[\u001b[49m\u001b[43mmid\u001b[49m\u001b[43m]\u001b[49m:\n\u001b[0;32m     26\u001b[0m     \u001b[38;5;28;01mif\u001b[39;00m target\u001b[38;5;241m>\u001b[39marray[mid\u001b[38;5;241m-\u001b[39m\u001b[38;5;241m1\u001b[39m] \u001b[38;5;129;01mand\u001b[39;00m mid\u001b[38;5;241m>\u001b[39m\u001b[38;5;241m0\u001b[39m:\n\u001b[0;32m     27\u001b[0m         \u001b[38;5;28mprint\u001b[39m(\u001b[38;5;124m\"\u001b[39m\u001b[38;5;124myayyy\u001b[39m\u001b[38;5;124m\"\u001b[39m)\n",
      "\u001b[1;31mKeyboardInterrupt\u001b[0m: "
     ]
    }
   ],
   "source": [
    "# code here\n",
    "\n",
    "array = np.array([10,17,24,31,38,45,52,59])\n",
    "np.argmin(array)\n",
    "n = len(array)\n",
    "target = 23\n",
    "def get_closest_point(a,b,target):\n",
    "    if target-a<=target-b:\n",
    "        return a\n",
    "    else:\n",
    "        return b\n",
    "def final_closest_point(array,n,target):\n",
    "    i=0\n",
    "    j=n\n",
    "    mid = 0\n",
    "    mid = (i+j)//2\n",
    "    #corener cases\n",
    "    if target <= array[0]:\n",
    "        return array[0]\n",
    "    if target >= array[n-1]:\n",
    "        return array[n-1]\n",
    "    while(i<j):\n",
    "        if target == array[mid]:\n",
    "            return array[mid]\n",
    "        if target<array[mid]:\n",
    "            if target>array[mid-1] and mid>0:\n",
    "                print(\"yayyy\")\n",
    "                return get_closest_point(array[mid-1],array[mid],target)\n",
    "            j= mid\n",
    "        else:\n",
    "            print(\"target is greater than the middle element\")\n",
    "            if target<array[mid+1] and mid<n-1:\n",
    "                return get_closest_point(array[mid+1],array[mid],target)\n",
    "            i=mid+1\n",
    "    return array[mid]\n",
    "print(final_closest_point(array,n,target))        "
   ]
  },
  {
   "cell_type": "markdown",
   "metadata": {
    "id": "Y1QkHyPpizyp"
   },
   "source": [
    "###`Q-2:` Replace multiples of 3 or 5 as 0 in the given array.\n",
    "```\n",
    "arr=[1 2 3 4 5 6 7 9]\n",
    "\n",
    "result-> [1 2 0 4 0 0 7 0]\n",
    "```"
   ]
  },
  {
   "cell_type": "code",
   "execution_count": 52,
   "metadata": {
    "id": "JjtxMlhWi25l"
   },
   "outputs": [
    {
     "data": {
      "text/plain": [
       "array([1, 2, 0, 4, 0, 0, 7, 0])"
      ]
     },
     "execution_count": 52,
     "metadata": {},
     "output_type": "execute_result"
    }
   ],
   "source": [
    "# code here\n",
    "arr = np.array([1,2,3,4,5,6,7,9])\n",
    "arr[np.where((arr%3 == 0) | (arr%5 == 0))[0]]= 0\n",
    "arr"
   ]
  },
  {
   "cell_type": "markdown",
   "metadata": {
    "id": "Pi_dZSwTi4OI"
   },
   "source": [
    "###`Q-3:` Use Fancy Indexing.\n",
    "1. Double the array elements at  given indexes\n",
    "```\n",
    "arr = np.arrange(10)\n",
    "indexes = [0,3,4,9]\n",
    "```\n",
    "Result -> `[ 0  1  2  6  8  5  6  7  8 18]`\n",
    "\n",
    "2. Using a given array make a different array as in below example\n",
    "```\n",
    "array = [1,2,3]\n",
    "result array -> [1 1 1 2 2 2 3 3 3]\n",
    "```\n",
    "* Internal-repetion should be as length of the array.\n",
    "\n",
    "Hint:\n",
    "```\n",
    "if a is an array\n",
    "a = [2,4]\n",
    "a[[1,1,0,1]] will result in-> [4 4 2 4]\n",
    "```"
   ]
  },
  {
   "cell_type": "code",
   "execution_count": 17,
   "metadata": {
    "id": "SHYuyuovi66N"
   },
   "outputs": [
    {
     "data": {
      "text/plain": [
       "array([ 0,  1,  2,  6,  8,  5,  6,  7,  8, 18])"
      ]
     },
     "execution_count": 17,
     "metadata": {},
     "output_type": "execute_result"
    }
   ],
   "source": [
    "# code here\n",
    "arr = np.arange(10)\n",
    "arr[[0,3,4,9]] = arr[[0,3,4,9]]*2\n",
    "arr"
   ]
  },
  {
   "cell_type": "markdown",
   "metadata": {
    "id": "UDehG0tFi89i"
   },
   "source": [
    "###`Q-4:` Your are given an array which is havig some nan value. You job is to fill those nan values with most common element in the array.\n",
    "```\n",
    "arr=np.array([[1,2,np.nan],[4,2,6],[np.nan,np.nan,5]])\n",
    "\n",
    "```"
   ]
  },
  {
   "cell_type": "code",
   "execution_count": 25,
   "metadata": {
    "id": "YH13A6w9jEyu"
   },
   "outputs": [
    {
     "data": {
      "text/plain": [
       "array([[1., 2., 2.],\n",
       "       [4., 2., 6.],\n",
       "       [2., 2., 5.]])"
      ]
     },
     "execution_count": 25,
     "metadata": {},
     "output_type": "execute_result"
    }
   ],
   "source": [
    "# code here\n",
    "import statistics as st\n",
    "import numpy as np\n",
    "arr = np.array([[1,2,np.nan],[4,2,6],[np.nan,np.nan,5]])\n",
    "arr_1 = np.ravel(arr)\n",
    "mode_array = st.mode(arr_1)\n",
    "arr[np.isnan(arr)] = mode_array\n",
    "arr"
   ]
  },
  {
   "cell_type": "markdown",
   "metadata": {
    "id": "Tk2JnioUjJ_t"
   },
   "source": [
    "### `Q-5:` Write a NumPy program\n",
    "\n",
    "- to find the missing data in a given array. Return a boolean matrix.\n",
    "- also try to fill those missing values with 0. For that, you can use `np.nan_to_num(a)`\n",
    "\n",
    "```python\n",
    "import numpy as np\n",
    "\n",
    "np.array([[3, 2, np.nan, 1],\n",
    "          [10, 12, 10, 9],\n",
    "          [5, np.nan, 1, np.nan]])\n",
    "```"
   ]
  },
  {
   "cell_type": "code",
   "execution_count": 34,
   "metadata": {
    "id": "nPEBTQJ_jJZe"
   },
   "outputs": [
    {
     "data": {
      "text/plain": [
       "array([[ 3.,  2.,  0.,  1.],\n",
       "       [10., 12., 10.,  9.],\n",
       "       [ 5.,  0.,  1.,  0.]])"
      ]
     },
     "execution_count": 34,
     "metadata": {},
     "output_type": "execute_result"
    }
   ],
   "source": [
    "# code here\n",
    "import numpy as np\n",
    "\n",
    "arr = np.array([[3, 2, np.nan, 1],\n",
    "          [10, 12, 10, 9],\n",
    "          [5, np.nan, 1, np.nan]])\n",
    "arr = np.nan_to_num(arr)\n",
    "arr"
   ]
  },
  {
   "cell_type": "markdown",
   "metadata": {
    "id": "FFUnZtG7jNBH"
   },
   "source": [
    "###`Q-6:` Given two arrays, X and Y, construct the Cauchy matrix C.\n",
    "`Cij =1/(xi - yj)`\n",
    "\n",
    "http://en.wikipedia.org/wiki/Cauchy_matrix\n",
    "```\n",
    "x = numpy.array([1,2,3,4]).reshape((-1, 1)\n",
    "y = numpy.array([5,6,7])\n",
    "```"
   ]
  },
  {
   "cell_type": "code",
   "execution_count": 43,
   "metadata": {
    "id": "pQXHa38TjVEh"
   },
   "outputs": [
    {
     "name": "stdout",
     "output_type": "stream",
     "text": [
      "[[ 0  1  2]\n",
      " [ 3  4  5]\n",
      " [ 6  7  8]\n",
      " [ 9 10 11]]\n"
     ]
    },
    {
     "data": {
      "text/plain": [
       "array([[ 0,  0,  0],\n",
       "       [ 0,  0,  0],\n",
       "       [ 0,  0,  0],\n",
       "       [-1,  0,  0]])"
      ]
     },
     "execution_count": 43,
     "metadata": {},
     "output_type": "execute_result"
    }
   ],
   "source": [
    "# code here\n",
    "x = np.array([1,2,3,4]).reshape(-1, 1)\n",
    "y = np.array([5,6,7])\n",
    "c = np.arange(len(x)*len(y)).reshape(len(x),len(y))\n",
    "print(c)\n",
    "for i in range(0,len(x)):\n",
    "    for j in range(0,len(y)):\n",
    "        c[i][j] = 1/(x[i]-y[j])\n",
    "c"
   ]
  },
  {
   "cell_type": "markdown",
   "metadata": {
    "id": "EbkHZCF1jWNc"
   },
   "source": [
    "###`Q-7:` Plot this below equation.\n",
    "\n",
    "$$\\large y = \\frac{e^x - e^{-x}}{e^x + e^{-x}}$$\n",
    "\n",
    "**Note: This equation is called tanh activation function. In deep learning, many times this function is used. If you find some difference between the sigmoid function and this tanh function, note that to your notebook.**"
   ]
  },
  {
   "cell_type": "code",
   "execution_count": 45,
   "metadata": {
    "id": "n6OcN--FjbLC"
   },
   "outputs": [
    {
     "data": {
      "text/plain": [
       "array([0.        , 0.76159416, 0.96402758, 0.99505475, 0.9993293 ,\n",
       "       0.9999092 , 0.99998771, 0.99999834, 0.99999977, 0.99999997,\n",
       "       1.        , 1.        , 1.        , 1.        , 1.        ,\n",
       "       1.        , 1.        , 1.        , 1.        , 1.        ])"
      ]
     },
     "execution_count": 45,
     "metadata": {},
     "output_type": "execute_result"
    }
   ],
   "source": [
    "# code here\n",
    "def tanh(a):\n",
    "    return (np.exp(a)-np.exp(-(a)))/(np.exp(a)+np.exp(-(a)))\n",
    "arr = np.arange(20)\n",
    "tanh(arr)"
   ]
  },
  {
   "cell_type": "markdown",
   "metadata": {
    "id": "xujS-pu4jciH"
   },
   "source": [
    "### `Q-8:` Plot the below equation.\n",
    "\n",
    "$$\\large y = \\sqrt{36 - (x - 4)^2} + 2$$\n",
    "\n",
    "The range of x should be between -2 to 10. $x ∈ [-2, 10]$\n",
    "\n"
   ]
  },
  {
   "cell_type": "code",
   "execution_count": 46,
   "metadata": {
    "id": "7CagwKP_jhIQ"
   },
   "outputs": [
    {
     "data": {
      "text/plain": [
       "[<matplotlib.lines.Line2D at 0x16254de7250>]"
      ]
     },
     "execution_count": 46,
     "metadata": {},
     "output_type": "execute_result"
    },
    {
     "data": {
      "image/png": "[encoded data removed]",
      "text/plain": [
       "<Figure size 432x288 with 1 Axes>"
      ]
     },
     "metadata": {
      "needs_background": "light"
     },
     "output_type": "display_data"
    }
   ],
   "source": [
    "# code here\n",
    "import matplotlib.pyplot as plt\n",
    "x = np.linspace(-2,10,10)\n",
    "y = np.sqrt(36-((x-4)**2))+2\n",
    "plt.plot(x,y)"
   ]
  },
  {
   "cell_type": "markdown",
   "metadata": {
    "id": "Jf14pxCfjiX1"
   },
   "source": [
    "### `Q-9:` Write a program implement Boradcasting Rule to check if two array can be added or not.\n",
    "Given tuples of shapes.\n",
    "```\n",
    "shape of a- (3,2,2)\n",
    "shape of b- (2,2)\n",
    "\n",
    "check_broadcast(a, b) -> return Boolean (True if can broadcasted, False other wise.)\n",
    "```"
   ]
  },
  {
   "cell_type": "code",
   "execution_count": 47,
   "metadata": {
    "id": "qSKGG0Yajlc8"
   },
   "outputs": [
    {
     "name": "stdout",
     "output_type": "stream",
     "text": [
      "[[[ 0  2]\n",
      "  [ 4  6]]\n",
      "\n",
      " [[ 4  6]\n",
      "  [ 8 10]]\n",
      "\n",
      " [[ 8 10]\n",
      "  [12 14]]]\n"
     ]
    }
   ],
   "source": [
    "# code here\n",
    "a = np.arange(12).reshape(3,2,2)\n",
    "b = np.arange(4).reshape(2,2)\n"
   ]
  },
  {
   "cell_type": "code",
   "execution_count": null,
   "metadata": {},
   "outputs": [],
   "source": []
  }
 ],
 "metadata": {
  "colab": {
   "provenance": []
  },
  "kernelspec": {
   "display_name": "Python 3 (ipykernel)",
   "language": "python",
   "name": "python3"
  },
  "language_info": {
   "codemirror_mode": {
    "name": "ipython",
    "version": 3
   },
   "file_extension": ".py",
   "mimetype": "text/x-python",
   "name": "python",
   "nbconvert_exporter": "python",
   "pygments_lexer": "ipython3",
   "version": "3.9.12"
  }
 },
 "nbformat": 4,
 "nbformat_minor": 1
}
