{
 "cells": [
  {
   "cell_type": "markdown",
   "metadata": {
    "id": "w6RlOAXV2PWh"
   },
   "source": [
    "### `Problem 1`: Write a program that will give you in hand monthly salary after deduction on CTC - HRA(10%), DA(5%), PF(3%) and taxes deduction as below:\n",
    "\n",
    "> Salary(Lakhs) : Tax(%)\n",
    "\n",
    "*   Below 5 : 0%\n",
    "*   5-10 : 10%\n",
    "*   10-20 : 20%\n",
    "*   aboove 20 : 30%"
   ]
  },
  {
   "cell_type": "code",
   "execution_count": 38,
   "metadata": {},
   "outputs": [
    {
     "name": "stdout",
     "output_type": "stream",
     "text": [
      "enter the salary in lakhs35\n",
      "7.199999999999999\n",
      "22.6\n"
     ]
    }
   ],
   "source": [
    "# Write code here\n",
    "salary = float(input(\"enter the salary in lakhs\"))\n",
    "fixed_deductions = 0.10+0.05+0.03\n",
    "def total_tax_10_lakh_Calculation(salary):\n",
    "    if salary==5:\n",
    "        total_tax = salary*(fixed_deductions+0.10)\n",
    "    else:\n",
    "        salary_1 = salary%5\n",
    "        total_tax = salary_1*(fixed_deductions+0.10)\n",
    "    return total_tax\n",
    "def total_tax_10_20_lakhs_calculation(salary):\n",
    "    if salary ==10:\n",
    "        total_tax = salary *(fixed_deductions+0.2)\n",
    "    else:\n",
    "        salary_1 = salary%10\n",
    "        total_tax = salary_1 *(fixed_deductions+0.2)\n",
    "    return total_tax\n",
    "def total_tax_above_20_lakhs_calculation(salary):\n",
    "    if salary == 20:\n",
    "        total_tax = salary * (fixed_deductions+0.3)\n",
    "    else:\n",
    "        salary_1 = salary%20\n",
    "        total_tax = salary* (fixed_deductions+0.3)\n",
    "    return total_tax\n",
    "if salary<5:\n",
    "    final_Salary = salary\n",
    "elif salary>5 and salary<=10:\n",
    "    total_tax = total_tax_10_lakh_Calculation(salary)\n",
    "    final_Salary = salary - total_tax\n",
    "elif salary>10 and salary<20:\n",
    "    salary_5_lakh = 5\n",
    "    salary_10_lakh = 5 - total_tax_10_lakh_Calculation(5)\n",
    "    salary_2 = salary%10\n",
    "    salary_10_20_lakhs = salary_2 - total_tax_10_20_lakhs_calculation(salary_2)\n",
    "    final_Salary = salary_5_lakh + salary_10_lakh + salary_10_20_lakhs\n",
    "else:\n",
    "    salary_5_lakh = 5\n",
    "    salary_10_lakh = 5 - total_tax_10_lakh_Calculation(5)\n",
    "    salary_10_20_lakhs = 10- total_tax_10_20_lakhs_calculation(10)\n",
    "    salary_2 = salary%20\n",
    "#     print(type(salary_2))\n",
    "    tax = total_tax_above_20_lakhs_calculation(salary_2)\n",
    "    print(tax)\n",
    "    salary_above_20_lakh = salary_2 - total_tax_above_20_lakhs_calculation(salary_2)\n",
    "    final_Salary =salary_5_lakh + salary_10_lakh + salary_10_20_lakhs + salary_above_20_lakh\n",
    "    print(final_Salary)"
   ]
  },
  {
   "cell_type": "markdown",
   "metadata": {
    "id": "tYzCGqwl2hfN"
   },
   "source": [
    "### `Problem 2`: Write a program that take a user input of three angles and will find out whether it can form a triangle or not."
   ]
  },
  {
   "cell_type": "code",
   "execution_count": 39,
   "metadata": {
    "id": "FYEqln-I2kxV"
   },
   "outputs": [
    {
     "name": "stdout",
     "output_type": "stream",
     "text": [
      "enter the first angle in degrees70\n",
      "enter the second angle in degrees60\n",
      "enter the third angle in degrees50\n",
      "It forms a triangle\n"
     ]
    }
   ],
   "source": [
    "# Write code here\n",
    "a1 = int(input(\"enter the first angle in degrees\"))\n",
    "a2 = int(input(\"enter the second angle in degrees\"))\n",
    "a3 = int(input(\"enter the third angle in degrees\"))\n",
    "if (a1 + a2 + a3) == 180:\n",
    "    print(\"It forms a triangle\")"
   ]
  },
  {
   "cell_type": "markdown",
   "metadata": {
    "id": "5vEpPh8C2pE4"
   },
   "source": [
    "### `Problem 3`: Write a program that will take user input of cost price and selling price and determines whether its a loss or a profit."
   ]
  },
  {
   "cell_type": "code",
   "execution_count": 40,
   "metadata": {
    "id": "jDwBXlkO2sfl"
   },
   "outputs": [
    {
     "name": "stdout",
     "output_type": "stream",
     "text": [
      "CP20\n",
      "SP30\n",
      "loss 1.5\n"
     ]
    }
   ],
   "source": [
    "# Write code here\n",
    "CP = int(input(\"CP\"))\n",
    "SP = int(input(\"SP\"))\n",
    "if CP>SP:\n",
    "    print(\"loss\",CP/SP)\n",
    "else:\n",
    "    print(\"loss\",SP/CP)"
   ]
  },
  {
   "cell_type": "markdown",
   "metadata": {
    "id": "J_FG_cJW2ugT"
   },
   "source": [
    "### `Problem 4`: Write a menu-driven program - \n",
    "1. cm to ft \n",
    "2. km to miles \n",
    "3. USD to INR \n",
    "4. exit"
   ]
  },
  {
   "cell_type": "code",
   "execution_count": null,
   "metadata": {
    "id": "yBHhaCGQ2zpD"
   },
   "outputs": [],
   "source": [
    "# Write code here\n",
    "menu = "
   ]
  },
  {
   "cell_type": "markdown",
   "metadata": {
    "id": "LJJ30_Yw27ZU"
   },
   "source": [
    "### `Problem 5` - Exercise 12: Display Fibonacci series up to 10 terms.\n",
    "\n",
    "*Note: The Fibonacci Sequence is a series of numbers. The next number is found by adding up the two numbers before it. The first two numbers are 0 and 1. For example, 0, 1, 1, 2, 3, 5, 8, 13, 21. The next number in this series above is 13+21 = 34*"
   ]
  },
  {
   "cell_type": "code",
   "execution_count": 6,
   "metadata": {
    "id": "ae_1rpe52-5R"
   },
   "outputs": [
    {
     "name": "stdout",
     "output_type": "stream",
     "text": [
      "enter the numbers7\n",
      "0\n",
      "1\n",
      "1\n",
      "2\n",
      "3\n",
      "5\n",
      "8\n"
     ]
    }
   ],
   "source": [
    "# Write code here\n",
    "a = 0\n",
    "b = 1\n",
    "n = int(input(\"enter the numbers\"))\n",
    "print(a)\n",
    "print(b)\n",
    "for i in range(2,n):\n",
    "    c = a+b\n",
    "    a=b\n",
    "    b = c\n",
    "    print(c)"
   ]
  },
  {
   "cell_type": "markdown",
   "metadata": {
    "id": "pk_I_S4m3PT5"
   },
   "source": [
    "### `Problem 6` - Find the factorial of a given number.\n",
    "\n",
    "Write a program to use the loop to find the factorial of a given number.\n",
    "\n",
    "The factorial (symbol: `!`) means to multiply all whole numbers from the chosen number down to 1.\n",
    "\n",
    "For example: calculate the factorial of 5\n",
    "\n",
    "```bash\n",
    "5! = 5 × 4 × 3 × 2 × 1 = 120\n",
    "```\n",
    "\n",
    "Output: \n",
    "\n",
    "```bash\n",
    "120\n",
    "```"
   ]
  },
  {
   "cell_type": "code",
   "execution_count": null,
   "metadata": {
    "id": "lzXxHegx3Rkc"
   },
   "outputs": [],
   "source": [
    "# Write code here"
   ]
  },
  {
   "cell_type": "markdown",
   "metadata": {
    "id": "-17IOi-g3UpU"
   },
   "source": [
    "### `Problem 7` - Reverse a given integer number.\n",
    "\n",
    "Example:\n",
    "\n",
    "`Input:`\n",
    "\n",
    "```bash\n",
    "76542\n",
    "```\n",
    "\n",
    "`Output:`\n",
    "\n",
    "```bash\n",
    "24567\n",
    "```"
   ]
  },
  {
   "cell_type": "code",
   "execution_count": 9,
   "metadata": {
    "id": "wJwLpKCr3aVA"
   },
   "outputs": [
    {
     "name": "stdout",
     "output_type": "stream",
     "text": [
      "enter the number879\n",
      "978"
     ]
    }
   ],
   "source": [
    "# Write code here\n",
    "n = int(input(\"enter the number\"))\n",
    "i = 0\n",
    "while i<n:\n",
    "    a = n%10\n",
    "    n = int(n/10)\n",
    "    i +=1\n",
    "    print(a,end=\"\")"
   ]
  },
  {
   "cell_type": "markdown",
   "metadata": {
    "id": "-t8PJQaY3sHf"
   },
   "source": [
    "### `Problem 8`: Take a user input as integer N. Find out the sum from 1 to N. If any number if divisible by 5, then skip that number. And if the sum is greater than 300, don't need to calculate the sum further more. Print the final result. And don't use for loop to solve this problem.\n",
    "\n",
    "**Example 1:**\n",
    "\n",
    "`Input:`\n",
    "\n",
    "```bash\n",
    "30\n",
    "```\n",
    "\n",
    "`Output:`\n",
    "\n",
    "```bash\n",
    "276\n",
    "```"
   ]
  },
  {
   "cell_type": "code",
   "execution_count": 18,
   "metadata": {
    "id": "GZB6mGMP3ujT"
   },
   "outputs": [
    {
     "name": "stdout",
     "output_type": "stream",
     "text": [
      "enter the number6\n",
      "10\n"
     ]
    }
   ],
   "source": [
    "# Write code here\n",
    "n = int(input(\"enter the number\"))\n",
    "i = 0\n",
    "summation = 0\n",
    "while i<n:\n",
    "#     print(i)\n",
    "    if i%5 ==0:\n",
    "        i+=1\n",
    "        continue\n",
    "    else:\n",
    "        summation+= i\n",
    "    if summation>300:\n",
    "        break\n",
    "    i+=1\n",
    "print(summation)\n",
    "\n"
   ]
  },
  {
   "cell_type": "markdown",
   "metadata": {
    "id": "Q7ggImeA3xm4"
   },
   "source": [
    "### `Problem 9`: Write a program that keeps on accepting a number from the user until the user enters Zero. Display the sum and average of all the numbers."
   ]
  },
  {
   "cell_type": "code",
   "execution_count": 22,
   "metadata": {
    "id": "t_YDSZDe4Kdo"
   },
   "outputs": [
    {
     "name": "stdout",
     "output_type": "stream",
     "text": [
      "enter the number4\n",
      "enter the number3\n",
      "enter the number5\n",
      "enter the number0\n",
      "sum 12\n",
      "average 4.0\n"
     ]
    }
   ],
   "source": [
    "# Write code here\n",
    "n = int(input(\"enter the number\"))\n",
    "a = 0\n",
    "count = 0\n",
    "while n!=0:\n",
    "    a+=n\n",
    "    count+=1\n",
    "    n = int(input(\"enter the number\"))\n",
    "print(\"sum\",a)\n",
    "print(\"average\",a/count)"
   ]
  },
  {
   "cell_type": "markdown",
   "metadata": {
    "id": "6EhvEMvm4R7s"
   },
   "source": [
    "###`Problem 9`: Write a program which will find all such numbers which are divisible by 7 but are not a multiple of 5, between 2000 and 3200 (both included). The numbers obtained should be printed in a comma-separated sequence on a single line."
   ]
  },
  {
   "cell_type": "code",
   "execution_count": 23,
   "metadata": {
    "id": "d6RgP1B34T6c"
   },
   "outputs": [
    {
     "name": "stdout",
     "output_type": "stream",
     "text": [
      "2002,2009,2016,2023,2037,2044,2051,2058,2072,2079,2086,2093,2107,2114,2121,2128,2142,2149,2156,2163,2177,2184,2191,2198,2212,2219,2226,2233,2247,2254,2261,2268,2282,2289,2296,2303,2317,2324,2331,2338,2352,2359,2366,2373,2387,2394,2401,2408,2422,2429,2436,2443,2457,2464,2471,2478,2492,2499,2506,2513,2527,2534,2541,2548,2562,2569,2576,2583,2597,2604,2611,2618,2632,2639,2646,2653,2667,2674,2681,2688,2702,2709,2716,2723,2737,2744,2751,2758,2772,2779,2786,2793,2807,2814,2821,2828,2842,2849,2856,2863,2877,2884,2891,2898,2912,2919,2926,2933,2947,2954,2961,2968,2982,2989,2996,3003,3017,3024,3031,3038,3052,3059,3066,3073,3087,3094,3101,3108,3122,3129,3136,3143,3157,3164,3171,3178,3192,3199,"
     ]
    }
   ],
   "source": [
    "# Write code here\n",
    "for i in range(2000,3201):\n",
    "    if i%7==0 and i%5!=0:\n",
    "        print(i,end=\",\")\n",
    "    "
   ]
  },
  {
   "cell_type": "markdown",
   "metadata": {
    "id": "tYvmRR-G4Vp4"
   },
   "source": [
    "###`Problem 10`: Write a program, which will find all such numbers between 1000 and 3000 (both included) such that each digit of the number is an even number. The numbers obtained should be printed in a space-separated sequence on a single line.\n",
    "\n"
   ]
  },
  {
   "cell_type": "code",
   "execution_count": 39,
   "metadata": {
    "id": "k6Gs1kIf4k19"
   },
   "outputs": [
    {
     "name": "stdout",
     "output_type": "stream",
     "text": [
      "[2000, 2002, 2004, 2006, 2008, 2020, 2022, 2024, 2026, 2028, 2040, 2042, 2044, 2046, 2048, 2060, 2062, 2064, 2066, 2068, 2080, 2082, 2084, 2086, 2088, 2200, 2202, 2204, 2206, 2208, 2220, 2222, 2224, 2226, 2228, 2240, 2242, 2244, 2246, 2248, 2260, 2262, 2264, 2266, 2268, 2280, 2282, 2284, 2286, 2288, 2400, 2402, 2404, 2406, 2408, 2420, 2422, 2424, 2426, 2428, 2440, 2442, 2444, 2446, 2448, 2460, 2462, 2464, 2466, 2468, 2480, 2482, 2484, 2486, 2488, 2600, 2602, 2604, 2606, 2608, 2620, 2622, 2624, 2626, 2628, 2640, 2642, 2644, 2646, 2648, 2660, 2662, 2664, 2666, 2668, 2680, 2682, 2684, 2686, 2688, 2800, 2802, 2804, 2806, 2808, 2820, 2822, 2824, 2826, 2828, 2840, 2842, 2844, 2846, 2848, 2860, 2862, 2864, 2866, 2868, 2880, 2882, 2884, 2886, 2888],"
     ]
    }
   ],
   "source": [
    "# Write code here\n",
    "nwe_list = []\n",
    "for i in range(1000,3001):\n",
    "#     print(str(i))\n",
    "    for a in str(i):\n",
    "#         print(a)\n",
    "        if int(a)%2==1:\n",
    "            break\n",
    "    else:\n",
    "        nwe_list.append(i)\n",
    "print(nwe_list,end=\",\")"
   ]
  },
  {
   "cell_type": "markdown",
   "metadata": {
    "id": "GV18IINT4mf5"
   },
   "source": [
    "###`Problem 11`: A robot moves in a plane starting from the original point (0,0). The robot can move toward UP, DOWN, LEFT and RIGHT with a given steps. \n",
    "The trace of robot movement is shown as the following:\n",
    "```\n",
    "UP 5\n",
    "DOWN 3\n",
    "LEFT 3\n",
    "RIGHT 2\n",
    "!\n",
    "```\n",
    "> The numbers after the direction are steps. \n",
    "\n",
    "> `!` means robot stop there.\n",
    "\n",
    "**Please write a program to compute the distance from current position after a sequence of movement and original point.** \n",
    "\n",
    "*If the distance is a float, then just print the nearest integer.*\n",
    "\n",
    "Example:\n",
    "\n",
    "`Input`:\n",
    "```\n",
    "UP 5\n",
    "DOWN 3\n",
    "LEFT 3\n",
    "RIGHT 2\n",
    "!\n",
    "```\n",
    "`Output`:\n",
    "```\n",
    "2\n",
    "```"
   ]
  },
  {
   "cell_type": "code",
   "execution_count": 87,
   "metadata": {
    "id": "6UNMC2aR4w5x"
   },
   "outputs": [
    {
     "name": "stdout",
     "output_type": "stream",
     "text": [
      "enter the UP distance5\n",
      "enter the down distance3\n",
      "enter the left distance3\n",
      "enter the right distance2\n",
      "(1, 2)\n",
      "2\n"
     ]
    }
   ],
   "source": [
    "# Write code here\n",
    "import math\n",
    "up = int(input(\"enter the UP distance\"))\n",
    "down = int(input(\"enter the down distance\"))\n",
    "left = int(input(\"enter the left distance\"))\n",
    "right = int(input(\"enter the right distance\"))\n",
    "initial_position = (0,0)\n",
    "final_position = (initial_position[1]+left-right,initial_position[0]+up-down)\n",
    "print(final_position)\n",
    "distance = math.sqrt((final_position[0]-initial_position[0])**2+(final_position[1]-initial_position[1])**2)\n",
    "print(round(distance))"
   ]
  },
  {
   "cell_type": "markdown",
   "metadata": {
    "id": "3fsAIAhK5GYY"
   },
   "source": [
    "###`Problem 12`:Write a program to print whether a given number is a prime number or not"
   ]
  },
  {
   "cell_type": "code",
   "execution_count": 57,
   "metadata": {
    "id": "j6y91lxy5LZs"
   },
   "outputs": [
    {
     "name": "stdout",
     "output_type": "stream",
     "text": [
      "enter the number987\n",
      "not prime\n"
     ]
    }
   ],
   "source": [
    "# Write code here\n",
    "import math\n",
    "flag = 0\n",
    "n = int(input(\"enter the number\"))\n",
    "if n==2:\n",
    "    print(\"prime\")\n",
    "else:\n",
    "    for i in range(2,int(math.sqrt(n/2)+1)):\n",
    "        if n%i == 0:\n",
    "            flag = 1\n",
    "            break\n",
    "    if flag == 1:\n",
    "        print(\"not prime\")\n",
    "    else:\n",
    "        print(\"Prime\")\n",
    "    "
   ]
  },
  {
   "cell_type": "markdown",
   "metadata": {
    "id": "asAbmbK-5NHv"
   },
   "source": [
    "###`Problem 13`:Print all the Armstrong numbers in a given range.\n",
    "Range will be provided by the user<br>\n",
    "Armstrong number is a number that is equal to the sum of cubes of its digits. For example 0, 1, 153, 370, 371 and 407 are the Armstrong numbers."
   ]
  },
  {
   "cell_type": "code",
   "execution_count": 93,
   "metadata": {
    "id": "PZuI67pm5jCT"
   },
   "outputs": [
    {
     "name": "stdout",
     "output_type": "stream",
     "text": [
      "enter the numbers6 7\n",
      "<class 'int'>\n"
     ]
    },
    {
     "ename": "TypeError",
     "evalue": "'map' object is not callable",
     "output_type": "error",
     "traceback": [
      "\u001b[1;31m---------------------------------------------------------------------------\u001b[0m",
      "\u001b[1;31mTypeError\u001b[0m                                 Traceback (most recent call last)",
      "Input \u001b[1;32mIn [93]\u001b[0m, in \u001b[0;36m<cell line: 4>\u001b[1;34m()\u001b[0m\n\u001b[0;32m      2\u001b[0m a, b \u001b[38;5;241m=\u001b[39m \u001b[38;5;28mlist\u001b[39m(\u001b[38;5;28mmap\u001b[39m(\u001b[38;5;28mint\u001b[39m,\u001b[38;5;28minput\u001b[39m(\u001b[38;5;124m\"\u001b[39m\u001b[38;5;124menter the numbers\u001b[39m\u001b[38;5;124m\"\u001b[39m)\u001b[38;5;241m.\u001b[39msplit()))\n\u001b[0;32m      3\u001b[0m \u001b[38;5;28mprint\u001b[39m(\u001b[38;5;28mtype\u001b[39m(a))\n\u001b[1;32m----> 4\u001b[0m \u001b[38;5;28;01mfor\u001b[39;00m i \u001b[38;5;129;01min\u001b[39;00m \u001b[38;5;28;43mrange\u001b[39;49m\u001b[43m(\u001b[49m\u001b[38;5;28;43mint\u001b[39;49m\u001b[43m(\u001b[49m\u001b[43ma\u001b[49m\u001b[43m)\u001b[49m\u001b[43m,\u001b[49m\u001b[38;5;28;43mint\u001b[39;49m\u001b[43m(\u001b[49m\u001b[43mb\u001b[49m\u001b[43m)\u001b[49m\u001b[43m)\u001b[49m:\n\u001b[0;32m      5\u001b[0m     \u001b[38;5;28;01mfor\u001b[39;00m ele \u001b[38;5;129;01min\u001b[39;00m \u001b[38;5;28mstr\u001b[39m(i):\n\u001b[0;32m      6\u001b[0m         summ\u001b[38;5;241m+\u001b[39m\u001b[38;5;241m=\u001b[39mele\u001b[38;5;241m*\u001b[39m\u001b[38;5;241m*\u001b[39m\u001b[38;5;241m3\u001b[39m\n",
      "\u001b[1;31mTypeError\u001b[0m: 'map' object is not callable"
     ]
    }
   ],
   "source": [
    "# Write code here\n",
    "a, b = list(map(int,input(\"enter the numbers\").split()))\n",
    "print(type(a))\n",
    "for i in range(int(a),int(b)):\n",
    "    for ele in str(i):\n",
    "        summ+=ele**3\n",
    "    if summ == i:\n",
    "        print(i,end = \"\")  "
   ]
  },
  {
   "cell_type": "markdown",
   "metadata": {
    "id": "ClCQZMqT7gK0"
   },
   "source": [
    "###`Problem 14`:Calculate the angle between the hour hand and minute hand.\n",
    "\n",
    "Note: There can be two angles between hands; we need to print a minimum of two. Also, we need to print the floor of the final result angle. For example, if the final angle is 10.61, we need to print 10.\n",
    "\n",
    "Input:<br>\n",
    "H = 9 , M = 0<br>\n",
    "Output:<br>\n",
    "90<br>\n",
    "Explanation:<br>\n",
    "The minimum angle between hour and minute\n",
    "hand when the time is 9 is 90 degress."
   ]
  },
  {
   "cell_type": "code",
   "execution_count": null,
   "metadata": {
    "id": "tNBTCZML7jy_"
   },
   "outputs": [],
   "source": [
    "# Write code here"
   ]
  },
  {
   "cell_type": "markdown",
   "metadata": {
    "id": "GwacF9Co72Qc"
   },
   "source": [
    "###`Problem 15`:Given two rectangles, find if the given two rectangles overlap or not. A rectangle is denoted by providing the x and y coordinates of two points: the left top corner and the right bottom corner of the rectangle. Two rectangles sharing a side are considered overlapping. (L1 and R1 are the extreme points of the first rectangle and L2 and R2 are the extreme points of the second rectangle).\n",
    "\n",
    "Note: It may be assumed that the rectangles are parallel to the coordinate axis.\n",
    "\n",
    "<img src='https://www.geeksforgeeks.org/wp-content/uploads/rectanglesOverlap.png' width='300' height='200'>"
   ]
  },
  {
   "cell_type": "code",
   "execution_count": 112,
   "metadata": {
    "id": "6rrw_lpH78Rs"
   },
   "outputs": [
    {
     "name": "stdout",
     "output_type": "stream",
     "text": [
      "enter the numbers0 10 \n",
      "enter the right bottom points10 0\n",
      "enter the numbers5 5\n",
      "enter the right bottom points15 0\n",
      "Rectangles overlap\n"
     ]
    }
   ],
   "source": [
    "# Write code here\n",
    "l1 = tuple(input(\"enter the numbers\").split())\n",
    "r1 = tuple(input(\"enter the right bottom points\").split())\n",
    "l2 = tuple(input(\"enter the numbers\").split())\n",
    "r2 = tuple(input(\"enter the right bottom points\").split())\n",
    "# \"\"\" Approach would be if one rectangle is over the top edge of the other rectangle\n",
    "#  and one rectangle is over the left edge of the other rectangle \"\"\"\n",
    "# if area is zero then there will be ne overlap\n",
    "if l1[0]==r1[0] or l1[1]==r1[1] or l2[0]==r2[0] or l2[1]==r2[1]:\n",
    "    print(\"no overlapi\")\n",
    "# there will be no overlap if one rectangle is above other than one:\n",
    "elif l1[1]<r2[1] or l2[1]<r1[1]:\n",
    "    print(\"no overlapj\")\n",
    "elif l1[0]>r2[0] or l2[0]<r1[0]:\n",
    "    print(l1[0]>r2[0])\n",
    "    print(l2[0],r1[0])\n",
    "    print(\"no overlapk\")\n",
    "else:\n",
    "    print(\"Rectangles overlap\")"
   ]
  },
  {
   "cell_type": "code",
   "execution_count": null,
   "metadata": {},
   "outputs": [],
   "source": []
  }
 ],
 "metadata": {
  "colab": {
   "provenance": []
  },
  "kernelspec": {
   "display_name": "Python 3 (ipykernel)",
   "language": "python",
   "name": "python3"
  },
  "language_info": {
   "codemirror_mode": {
    "name": "ipython",
    "version": 3
   },
   "file_extension": ".py",
   "mimetype": "text/x-python",
   "name": "python",
   "nbconvert_exporter": "python",
   "pygments_lexer": "ipython3",
   "version": "3.9.12"
  }
 },
 "nbformat": 4,
 "nbformat_minor": 1
}
