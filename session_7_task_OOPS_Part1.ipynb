{
 "cells": [
  {
   "cell_type": "markdown",
   "metadata": {
    "id": "FyUJ3PRAsPr4"
   },
   "source": [
    "##`Q-1:` Rectangle Class\n",
    "1. Write a Rectangle class in Python language, allowing you to build a rectangle with length and width attributes.\n",
    "\n",
    "2. Create a Perimeter() method to calculate the perimeter of the rectangle and a Area() method to calculate the area of ​​the rectangle.\n",
    "\n",
    "3. Create a method display() that display the length, width, perimeter and area of an object created using an instantiation on rectangle class."
   ]
  },
  {
   "cell_type": "markdown",
   "metadata": {
    "id": "GxUtOqJfssFK"
   },
   "source": [
    "Eg.\n",
    "After making above classes and methods, on executing below code:-\n",
    "```\n",
    "my_rectangle = Rectangle(3 , 4)\n",
    "my_rectangle.display()\n",
    "```\n",
    "\n",
    "`Output:`\n",
    "```\n",
    "The length of rectangle is:  3\n",
    "The width of rectangle is:  4\n",
    "The perimeter of rectangle is:  14\n",
    "The area of rectangle is:  12\n",
    "```\n"
   ]
  },
  {
   "cell_type": "code",
   "execution_count": 1,
   "metadata": {
    "id": "92_QT-Uj6NBg"
   },
   "outputs": [],
   "source": [
    "# write your code here\n",
    "class Rectangle:\n",
    "    def __init__(self,length,width):\n",
    "        self.length = length\n",
    "        self.width = width\n",
    "    def Perimeter(self,length,width):\n",
    "        perimeter = self.length*2 + self.width*2\n",
    "        return perimeter\n",
    "    def Area(self,length,width):\n",
    "        area = self.length* self.width\n",
    "        return area\n",
    "    def display(self):\n",
    "        print(\"The length of rectange is:\",self.length)\n",
    "        print(\"The width of rectangle is:\",self.width)\n",
    "        print(\"The perimeter of rectange is:\",self.Perimeter(self.length,self.width))\n",
    "        print(\"The ares of rectange is:\",self.Area(self.length,self.width))"
   ]
  },
  {
   "cell_type": "code",
   "execution_count": 3,
   "metadata": {},
   "outputs": [
    {
     "name": "stdout",
     "output_type": "stream",
     "text": [
      "The length of rectange is: 3\n",
      "The width of rectangle is: 4\n",
      "The perimeter of rectange is: 14\n",
      "The ares of rectange is: 12\n"
     ]
    }
   ],
   "source": [
    "my_rectangle = Rectangle(3,4)\n",
    "my_rectangle.display()"
   ]
  },
  {
   "cell_type": "markdown",
   "metadata": {
    "id": "r_GxrS0Vrdom"
   },
   "source": [
    "##`Q-2: Bank Class`\n",
    "\n",
    "1. Create a Python class called `BankAccount` which represents a bank account, having as attributes: `accountNumber` (numeric type), `name` (name of the account owner as string type), `balance`.\n",
    "2. Create a constructor with parameters: `accountNumber, name, balance`.\n",
    "3. Create a `Deposit()` method which manages the deposit actions.\n",
    "4. Create a `Withdrawal()` method  which manages withdrawals actions.\n",
    "5. Create an `bankFees()` method to apply the bank fees with a percentage of 5% of the balance account.\n",
    "6. Create a `display()` method to display account details.\n",
    "Give the complete code for the  BankAccount class."
   ]
  },
  {
   "cell_type": "markdown",
   "metadata": {
    "id": "qvVkOUJgvTV_"
   },
   "source": [
    "Eg.\n",
    "After making above classes and methods, on executing below code:-\n",
    "```\n",
    "newAccount = BankAccount(2178514584, \"Mandy\" , 2800)\n",
    "\n",
    "newAccount.Withdrawal(700)\n",
    "\n",
    "newAccount.Deposit(1000)\n",
    "\n",
    "newAccount.display()\n",
    "```\n",
    "\n",
    "`Output:`\n",
    "```\n",
    "Account Number :  2178514584\n",
    "Account Name :  Mandy\n",
    "Account Balance :  3100 ₹\n",
    "```"
   ]
  },
  {
   "cell_type": "code",
   "execution_count": 18,
   "metadata": {
    "id": "fUQOmQyA6YDR"
   },
   "outputs": [],
   "source": [
    "# write your code here\n",
    "class BankAccount:\n",
    "    def __init__(self,accountNumber,name,balance):\n",
    "        self.accountNumber = accountNumber\n",
    "        self.name = name\n",
    "        self.balance = balance\n",
    "    def Deposit(self,deposit_amount):\n",
    "        self.balance = self.balance + deposit_amount\n",
    "    def Withdrawl(self,withdrawl_amount):\n",
    "        self.balance = self.balance - withdrawl_amount\n",
    "    def bankfees(self):\n",
    "        self.balance = self.balance - self.balance*0.05\n",
    "    def display(self):\n",
    "        print(\"Account number\",self.accountNumber)\n",
    "        print(\"Account Name\",self.name)\n",
    "        return 'Accout Balance{} rupees'.format(self.balance)"
   ]
  },
  {
   "cell_type": "code",
   "execution_count": 19,
   "metadata": {},
   "outputs": [],
   "source": [
    "newAccount = BankAccount(2178514584, \"Mandy\" , 2800)\n",
    "# newAccount.Withdrawl(700)\n",
    "# newAccount.Deposit(1000)\n",
    "# newAccount.display()"
   ]
  },
  {
   "cell_type": "code",
   "execution_count": 20,
   "metadata": {},
   "outputs": [],
   "source": [
    "newAccount.Withdrawl(700)"
   ]
  },
  {
   "cell_type": "code",
   "execution_count": 21,
   "metadata": {},
   "outputs": [],
   "source": [
    "newAccount.Deposit(1000)"
   ]
  },
  {
   "cell_type": "code",
   "execution_count": 22,
   "metadata": {},
   "outputs": [
    {
     "name": "stdout",
     "output_type": "stream",
     "text": [
      "Account number 2178514584\n",
      "Account Name Mandy\n"
     ]
    },
    {
     "data": {
      "text/plain": [
       "'Accout Balance3100 rupees'"
      ]
     },
     "execution_count": 22,
     "metadata": {},
     "output_type": "execute_result"
    }
   ],
   "source": [
    "newAccount.display()"
   ]
  },
  {
   "cell_type": "markdown",
   "metadata": {
    "id": "QovcQAZTrgGU"
   },
   "source": [
    "##`Q-3:Computation class`\n",
    "\n",
    "1. Create a `Computation` class with a default constructor (without parameters) allowing to perform various calculations on integers numbers.\n",
    "2. Create a method called `Factorial()` which allows to calculate the factorial of an integer n. Integer n as parameter for this method\n",
    "\n",
    "3. Create a method called `naturalSum()` allowing to calculate the sum of the first n integers 1 + 2 + 3 + .. + n. Integer n as parameter for this method.\n",
    "\n",
    "4. Create a method called `testPrime()` in  the Calculation class to test the primality of a given integer n, n is Prime or Not? Integer n as parameter for this method.\n",
    "\n",
    "5. Create  a method called `testPrims()` allowing to test if two numbers are prime between them. Two integers are prime to one another if they have only `1` as their common divisor. Eg. 4 and 9 are prime to each other.\n",
    "\n",
    "5. Create a `tableMult()` method which creates and displays the multiplication table of a given integer. Then create an `allTablesMult()` method to display all the integer multiplication tables 1, 2, 3, ..., 9.\n",
    "\n",
    "6. Create a static `listDiv()` method that gets all the divisors of a given integer on new list called  Ldiv. Create another `listDivPrim()` method that gets all the prime divisors of a given integer."
   ]
  },
  {
   "cell_type": "code",
   "execution_count": 147,
   "metadata": {
    "id": "YEkPH70l6Z-o"
   },
   "outputs": [],
   "source": [
    "# write your code here\n",
    "class Computation:\n",
    "    def __init__(self):\n",
    "        self.integer = 0\n",
    "    def Factorial(self,n):\n",
    "        fact = 1\n",
    "        while n!=1:\n",
    "            fact = n * fact\n",
    "            n-=1\n",
    "        return fact\n",
    "    def naturalSum(self,n):\n",
    "        summation = (n*(n+1))/2\n",
    "        return summation\n",
    "    def testPrime(self,n):\n",
    "        flag = 'Prime'\n",
    "        for i in range(2,int(n/2)+1):\n",
    "            if n%i == 0:\n",
    "                flag ='Not Prime'\n",
    "                break\n",
    "        return flag\n",
    "    def testPrims(self,num1,num2):\n",
    "        flag = 'Prime to each other'\n",
    "        num1_divisors = [i for i in range(2,num1) if num1%i==0]\n",
    "        num2_divisors = [i for i in range(2,num2) if num2%i == 0]\n",
    "        for ele in num1_divisors:\n",
    "            if ele in num2_divisors:\n",
    "                flag = 'Not prime to each other'\n",
    "        return flag\n",
    "    def tableMult(self,n):\n",
    "        print(\"Tabe for \",n)\n",
    "        for i in range(1,11):\n",
    "            print(n,\"*\",i,\"=\",n*i)\n",
    "    def alltableNult(self,n):\n",
    "        for i in range(2,10):\n",
    "            self.tableMult(i)\n",
    "    def listDive(self,n):\n",
    "        Ldiv = [i for i in range(1,n+1) if n%i == 0]\n",
    "        return Ldiv\n",
    "    def listDivPrime(self,n):\n",
    "        div_list = self.listDive(n)\n",
    "        print(div_list)\n",
    "        final_list = []\n",
    "        for ele in div_list[1:]:\n",
    "            flag = 'Prime'\n",
    "            print(\"ele\",ele)\n",
    "            if ele in (2,3):\n",
    "                flag = 'Prime'\n",
    "                final_list.append(ele)\n",
    "            else:\n",
    "                for i in range(2,int(ele/2)+1):\n",
    "                    if ele%i == 0:\n",
    "                        flag = 'Not Prime'\n",
    "                        break\n",
    "            if flag == 'Prime':\n",
    "                final_list.append(ele)\n",
    "        return list(set(final_list))\n",
    "            \n",
    "        "
   ]
  },
  {
   "cell_type": "code",
   "execution_count": 150,
   "metadata": {},
   "outputs": [
    {
     "name": "stdout",
     "output_type": "stream",
     "text": [
      "[1, 2, 3, 4, 6, 7, 12, 14, 21, 28, 42, 84]\n",
      "ele 2\n",
      "ele 3\n",
      "ele 4\n",
      "ele 6\n",
      "ele 7\n",
      "ele 12\n",
      "ele 14\n",
      "ele 21\n",
      "ele 28\n",
      "ele 42\n",
      "ele 84\n"
     ]
    },
    {
     "data": {
      "text/plain": [
       "[2, 3, 7]"
      ]
     },
     "execution_count": 150,
     "metadata": {},
     "output_type": "execute_result"
    }
   ],
   "source": [
    "c = Computation()\n",
    "c.testPrims(63,96)\n",
    "# c.alltableNult(9)\n",
    "c.listDive(5)\n",
    "c.listDivPrime(84)"
   ]
  },
  {
   "cell_type": "markdown",
   "metadata": {
    "id": "0yn23_oEriXa"
   },
   "source": [
    "##`Q-4`: Build flashcard using class in Python.\n",
    "\n",
    "Build a flashcard using class in python. A flashcard is a card having information on both sides, which can be used as an aid in memoization. Flashcards usually have a question on one side and an answer on the other.\n",
    "\n",
    "**Example 1:**\n",
    "\n",
    "Approach:\n",
    "\n",
    "- Create a class named FlashCard.\n",
    "- Initialize dictionary fruits using __init__() method. Here you have to define fruit name as key and it's color as value. E.g., {\"Banana\": \"yellow\", \"Strawberries\": \"pink\"}\n",
    "- Now randomly choose a pair from fruits by using _random_ module and store the key in variable _fruit_ and _value_ in variable color.\n",
    "- Now prompt the user to answer the color of the randomly chosen fruit.\n",
    "- If correct print correct else print wrong.\n",
    "\n",
    "Output:\n",
    "```bash\n",
    "welcome to fruit quiz\n",
    "What is the color of Strawberries\n",
    "pink\n",
    "Correct answer\n",
    "Enter 0, if you want to play again: 0\n",
    "What is the color of watermelon\n",
    "green\n",
    "Correct answer\n",
    "Enter 0, if you want to play again: 1\n",
    "```"
   ]
  },
  {
   "cell_type": "code",
   "execution_count": 195,
   "metadata": {},
   "outputs": [
    {
     "name": "stdout",
     "output_type": "stream",
     "text": [
      "Welcome to the fruits quiz\n",
      "What is the color of bananayellow\n",
      "Correct Answer\n",
      "Enter 0 if you want to play again0\n",
      "input_2 0\n"
     ]
    }
   ],
   "source": [
    "import random\n",
    "class Flashcard:\n",
    "    def __init__(self,fruits):\n",
    "        self.fruits = fruits\n",
    "    def display(self,fruits):\n",
    "        random_key = random.choice(list(fruits.keys()))\n",
    "        print(\"Welcome to the fruits quiz\")\n",
    "        input_1 = input(\"What is the color of {}\".format(random_key))\n",
    "        if input_1 == fruits[random_key]:\n",
    "            print(\"Correct Answer\")\n",
    "        else: \n",
    "            print(\"Wrong answer\")\n",
    "        input_2 = input(\"Enter 0 if you want to play again\")\n",
    "        print(\"input_2\",input_2)\n",
    "        if input_2 == 0:\n",
    "            return self.display(fruits)\n",
    "        else:\n",
    "            return\n",
    "dictionary = {'banana':'yellow','strawberries':'pink','Watermelon':'Red','Guava':'green'}\n",
    "f = Flashcard(dictionary)\n",
    "f.display(dictionary)"
   ]
  },
  {
   "cell_type": "code",
   "execution_count": 166,
   "metadata": {
    "id": "vCrUF6VU6l6w"
   },
   "outputs": [
    {
     "ename": "SyntaxError",
     "evalue": "keyword argument repeated: fruits (2526257046.py, line 18)",
     "output_type": "error",
     "traceback": [
      "\u001b[1;36m  Input \u001b[1;32mIn [166]\u001b[1;36m\u001b[0m\n\u001b[1;33m    f = FlashCard(fruits = \"Strawberries\",variable =\"pink\",fruits =\"Banana\",variable =\"yellow\")\u001b[0m\n\u001b[1;37m                                                           ^\u001b[0m\n\u001b[1;31mSyntaxError\u001b[0m\u001b[1;31m:\u001b[0m keyword argument repeated: fruits\n"
     ]
    }
   ],
   "source": [
    "# write your code here\n",
    "import random\n",
    "class FlashCard:\n",
    "    __slot__ = ['fruits','variable']\n",
    "    def __init__(self,**kwargs):\n",
    "        for key,value in kwargs.items():\n",
    "            setattr(self,key,value)\n",
    "    def display(self,key,value):\n",
    "        print(\"Welcome to the fruit quiz\")\n",
    "        input_data = input(\"What is the color of Banana\")\n",
    "        if input_data==value:\n",
    "            print(\"Correct answer\")\n",
    "            input_again = input(\"Enter 0 if you want to play again\")\n",
    "            if input_again == 0:\n",
    "                \n",
    "            \n",
    "        print(\"key is\",key)\n",
    "#     def input_function(self,key,value):\n",
    "#         key,value = random.choice(list())\n",
    "        \n",
    "#     def display(self):\n",
    "#         print(\"\"\"\n",
    "#         Welcome to the fruit quiz \n",
    "#         What is the color of \"\")\n",
    "f = FlashCard(fruits =\"Banana\",variable =\"yellow\")\n",
    "f = FlashCard(fruits = \"Strawberries\",variable =\"pink\")\n",
    "f.display(\"Banana\",\"Yellow\")"
   ]
  },
  {
   "cell_type": "markdown",
   "metadata": {
    "id": "GN2r0jbRewYr"
   },
   "source": [
    "## `Q-5:` Problem 5 based on OOP Python.\n",
    "\n",
    "TechWorld, a technology training center, wants to allocate courses for instructors. An instructor is identified by name, technology skills, experience and average feedback. An instructor is allocated a course, if he/she satisfies the below two conditions:\n",
    "- eligibility criteria:\n",
    "    - if experience is more than 3 years, average feedback should be 4.5 or more\n",
    "    - if experience is 3 years or less, average feedback should be 4 or more\n",
    "- he/she should posses the technology skill for the course\n",
    "\n",
    "Identify the class name and attributes to represent instructors. Write a Python program to implement the class chosen with its attributes and methods.\n",
    "\n",
    "**Note:**\n",
    "- Consider all instance variables to be private and methods to be public.\n",
    "- An instructor may have multiple technology skills, so consider instance variable, technology_skill to be a list.\n",
    "- *check_eligibility()*: Return true if eligibility criteria is satisfied by the instructor. Else, return false\n",
    "- *allocate_course(technology)*: Return true if the course which requires the given technology can be allocated to the instructor. Else, return false.\n",
    "\n",
    "Represent a few objects of the class, initialize instance variables using setter methods, invoke\n",
    "appropriate methods and test your program."
   ]
  },
  {
   "cell_type": "code",
   "execution_count": 315,
   "metadata": {
    "id": "pdMFuVFnlvKL"
   },
   "outputs": [],
   "source": [
    "# write your code here\n",
    "class TechWorld:\n",
    "    \n",
    "    __skils_required = ['Computer Science','Operating Systems','Programming','Computer Architecture']\n",
    "    \n",
    "    def __init__(self):\n",
    "        self.__name = ''\n",
    "        self.__technology_skills = []\n",
    "        self.__experience = 0\n",
    "        self.__feedback = 0.0\n",
    "        \n",
    "    @staticmethod\n",
    "    def get_skills_required():\n",
    "        return TechWorld.__skils_required\n",
    "        \n",
    "    def get_variables(self):\n",
    "        return self.__name,self.__technology_skills,self.__experience,self.__feedback\n",
    "    \n",
    "    def set_variables(self,name_value,skills_value,experience_value,feedback_value):\n",
    "        self.__name = name_value\n",
    "        self.__technology_skills = skills_value\n",
    "        self.__experience = experience_value\n",
    "        self.__feedback = feedback_value\n",
    "        \n",
    "    def check_eligibility(self):\n",
    "        flag = 'False'\n",
    "        if self.__experience>3:\n",
    "            if self.__feedback>=4.5:\n",
    "                flag = 'True'\n",
    "        else:\n",
    "            if self.__feedback>=4:\n",
    "                flag = 'True'\n",
    "        return flag\n",
    "    \n",
    "    def allocate_course(self):\n",
    "        skill_flag = 'True'\n",
    "        eligibility_flag = self.check_eligibility()\n",
    "        test_skills = [1 if ele in self.__technology_skills else 0 for ele in TechWorld.__skils_required ]\n",
    "        print(test_skills)\n",
    "        if 0 in test_skills:\n",
    "            skill_flag = 'False'\n",
    "        if skill_flag == 'True' and eligibility_flag == 'True':\n",
    "            return True\n",
    "        else:\n",
    "            return False\n",
    "    \n"
   ]
  },
  {
   "cell_type": "code",
   "execution_count": 316,
   "metadata": {},
   "outputs": [],
   "source": [
    "inst = TechWorld()"
   ]
  },
  {
   "cell_type": "code",
   "execution_count": 317,
   "metadata": {},
   "outputs": [
    {
     "data": {
      "text/plain": [
       "['Computer Science',\n",
       " 'Operating Systems',\n",
       " 'Programming',\n",
       " 'Computer Architecture']"
      ]
     },
     "execution_count": 317,
     "metadata": {},
     "output_type": "execute_result"
    }
   ],
   "source": [
    "inst.get_skills_required()"
   ]
  },
  {
   "cell_type": "code",
   "execution_count": 318,
   "metadata": {},
   "outputs": [],
   "source": [
    "inst.set_variables('Saima',['Computer Science','Operating Systems','Programming','Computer Architecture'],4,4.6)"
   ]
  },
  {
   "cell_type": "code",
   "execution_count": 319,
   "metadata": {},
   "outputs": [
    {
     "data": {
      "text/plain": [
       "('Saima',\n",
       " ['Computer Science',\n",
       "  'Operating Systems',\n",
       "  'Programming',\n",
       "  'Computer Architecture'],\n",
       " 4,\n",
       " 4.6)"
      ]
     },
     "execution_count": 319,
     "metadata": {},
     "output_type": "execute_result"
    }
   ],
   "source": [
    "inst.get_variables()"
   ]
  },
  {
   "cell_type": "code",
   "execution_count": 320,
   "metadata": {},
   "outputs": [
    {
     "data": {
      "text/plain": [
       "'True'"
      ]
     },
     "execution_count": 320,
     "metadata": {},
     "output_type": "execute_result"
    }
   ],
   "source": [
    "inst.check_eligibility()"
   ]
  },
  {
   "cell_type": "code",
   "execution_count": 321,
   "metadata": {},
   "outputs": [
    {
     "name": "stdout",
     "output_type": "stream",
     "text": [
      "[1, 1, 1, 1]\n"
     ]
    },
    {
     "data": {
      "text/plain": [
       "True"
      ]
     },
     "execution_count": 321,
     "metadata": {},
     "output_type": "execute_result"
    }
   ],
   "source": [
    "inst.allocate_course()"
   ]
  },
  {
   "cell_type": "code",
   "execution_count": null,
   "metadata": {},
   "outputs": [],
   "source": []
  },
  {
   "cell_type": "code",
   "execution_count": null,
   "metadata": {},
   "outputs": [],
   "source": []
  }
 ],
 "metadata": {
  "colab": {
   "provenance": []
  },
  "kernelspec": {
   "display_name": "Python 3 (ipykernel)",
   "language": "python",
   "name": "python3"
  },
  "language_info": {
   "codemirror_mode": {
    "name": "ipython",
    "version": 3
   },
   "file_extension": ".py",
   "mimetype": "text/x-python",
   "name": "python",
   "nbconvert_exporter": "python",
   "pygments_lexer": "ipython3",
   "version": "3.9.12"
  }
 },
 "nbformat": 4,
 "nbformat_minor": 1
}
