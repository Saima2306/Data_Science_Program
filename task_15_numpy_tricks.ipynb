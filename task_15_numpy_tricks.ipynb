{
 "cells": [
  {
   "cell_type": "markdown",
   "metadata": {
    "id": "J88qfqQEk_sT"
   },
   "source": [
    "###`Q-1:` Create a random 3x4 matrix with value between 0-100. And perform below tasks\n",
    "\n",
    "    i. Sort this matrix. np.sort()\n",
    "    ii. Sort this matrix based on values in 2nd column.\n",
    "    iii. Sort this matrix based on max value in each row.\n",
    "    iv. Sort based on elements value.\n"
   ]
  },
  {
   "cell_type": "markdown",
   "metadata": {
    "id": "xpOwOdhqlE9R"
   },
   "source": [
    "See examples:\n",
    "```\n",
    "arr =\n",
    "    [[92 90 74]\n",
    "    [ 6 63 93]\n",
    "    [15 93 96]\n",
    "    [70 60 48]]\n",
    "```\n",
    "```\n",
    "i. np.sort\n",
    "[[74 90 92]\n",
    " [ 6 63 93]\n",
    " [15 93 96]\n",
    " [48 60 70]]\n",
    "\n",
    "ii. based on 2nd column\n",
    "[[70 60 48]\n",
    " [ 6 63 93]\n",
    " [92 90 74]\n",
    " [15 93 96]]\n",
    "\n",
    "iii. based on row max- ascending\n",
    "[[15 93 96]\n",
    " [ 6 63 93]\n",
    " [92 90 74]\n",
    " [70 60 48]]\n",
    "\n",
    "iv. based on elements value\n",
    "[[ 6 15 48]\n",
    " [60 63 70]\n",
    " [74 90 92]\n",
    " [93 93 96]]\n",
    "\n",
    "```"
   ]
  },
  {
   "cell_type": "code",
   "execution_count": 13,
   "metadata": {
    "id": "Auy-guUwlALv"
   },
   "outputs": [
    {
     "name": "stdout",
     "output_type": "stream",
     "text": [
      "[[88 46 23 38]\n",
      " [49 82  8 49]\n",
      " [53 29 77  3]]\n"
     ]
    },
    {
     "data": {
      "text/plain": [
       "array([[23, 38, 46, 88],\n",
       "       [ 8, 49, 49, 82],\n",
       "       [ 3, 29, 53, 77]])"
      ]
     },
     "execution_count": 13,
     "metadata": {},
     "output_type": "execute_result"
    }
   ],
   "source": [
    "# code here\n",
    "import numpy as np\n",
    "a = np.random.randint(1,100,12).reshape(3,4)\n",
    "print(a)\n",
    "np.sort(a)"
   ]
  },
  {
   "cell_type": "code",
   "execution_count": 14,
   "metadata": {},
   "outputs": [
    {
     "data": {
      "text/plain": [
       "array([[53, 29, 77,  3],\n",
       "       [88, 46, 23, 38],\n",
       "       [49, 82,  8, 49]])"
      ]
     },
     "execution_count": 14,
     "metadata": {},
     "output_type": "execute_result"
    }
   ],
   "source": [
    "# ques1- ii.\n",
    "a[a[:,1].argsort()]"
   ]
  },
  {
   "cell_type": "code",
   "execution_count": 46,
   "metadata": {},
   "outputs": [
    {
     "data": {
      "text/plain": [
       "array([[88, 46, 23, 38],\n",
       "       [49, 82,  8, 49],\n",
       "       [53, 29, 77,  3]])"
      ]
     },
     "execution_count": 46,
     "metadata": {},
     "output_type": "execute_result"
    }
   ],
   "source": [
    "# ques1- iii\n",
    "max_values = np.max(a,axis = 1)\n",
    "max_values\n",
    "matrix_indices = np.argsort(max_values[::-1])\n",
    "a[matrix_indices]"
   ]
  },
  {
   "cell_type": "code",
   "execution_count": null,
   "metadata": {},
   "outputs": [],
   "source": [
    "#ques1 - iv"
   ]
  },
  {
   "cell_type": "markdown",
   "metadata": {
    "id": "Jx_I3gx9lBay"
   },
   "source": [
    "###`Q-2:` There is an array of marks of 5 students in 4 subjects. Further you are asked to perform below task.\n",
    "    i. Add marks every student of an extra subject in the same array.\n",
    "    ii. Add two new students marks in respective 5 subjects.(one subject added in above task)\n",
    "    iii. Add extra column with sum of all subjects(5-subjects) marks\n",
    "    iv. Sort the array(non-ascending order) on total marks column--one added in above task. Show top 2 rows.\n",
    "\n",
    "Note: Change dimension of arrays during concatenation or appending if required."
   ]
  },
  {
   "cell_type": "markdown",
   "metadata": {
    "id": "lXF-CE6ylNIw"
   },
   "source": [
    "Given Array-\n",
    "```\n",
    "marks = [[13, 10,  9, 33],\n",
    "       [63, 46, 90, 42],\n",
    "       [39, 76, 13, 29],\n",
    "       [82,  9, 29, 78],\n",
    "       [67, 61, 59, 36]]\n",
    "\n",
    "extra_subject = [41, 87, 72, 36, 92]\n",
    "#Two extra students record-\n",
    "rec1 = [77, 83, 98, 95, 89]\n",
    "rec2 = [92, 71, 52, 61, 53]\n",
    "```"
   ]
  },
  {
   "cell_type": "code",
   "execution_count": 90,
   "metadata": {
    "id": "7YKsWO2olMkq"
   },
   "outputs": [
    {
     "data": {
      "text/plain": [
       "(5, 1)"
      ]
     },
     "execution_count": 90,
     "metadata": {},
     "output_type": "execute_result"
    }
   ],
   "source": [
    "# code here\n",
    "#ques2 - i\n",
    "marks = np.array([[13, 10,  9, 33],\n",
    "       [63, 46, 90, 42],\n",
    "       [39, 76, 13, 29],\n",
    "       [82,  9, 29, 78],\n",
    "       [67, 61, 59, 36]])\n",
    "extra_subject = np.array([41, 87, 72, 36, 92])\n",
    "extra_subject = extra_subject.reshape(marks.shape[0],1)\n",
    "# np.append(marks,extra_subject,axis = 0)\n",
    "marks = np.append(marks,extra_subject,axis = 1)\n",
    "marks\n",
    "extra_subject.shape"
   ]
  },
  {
   "cell_type": "code",
   "execution_count": 95,
   "metadata": {},
   "outputs": [
    {
     "data": {
      "text/plain": [
       "array([[13, 10,  9, 33, 41],\n",
       "       [63, 46, 90, 42, 87],\n",
       "       [39, 76, 13, 29, 72],\n",
       "       [82,  9, 29, 78, 36],\n",
       "       [67, 61, 59, 36, 92],\n",
       "       [92, 71, 52, 61, 53]])"
      ]
     },
     "execution_count": 95,
     "metadata": {},
     "output_type": "execute_result"
    }
   ],
   "source": [
    "# ques2 - ii\n",
    "rec1 = np.array([77, 83, 98, 95, 89])\n",
    "rec1 = rec1.reshape(1,marks.shape[0])\n",
    "np.append(marks,rec1,axis = 0)\n",
    "rec2 = np.array([92, 71, 52, 61, 53])\n",
    "rec2 = rec2.reshape(1,marks.shape[0])\n",
    "np.append(marks,rec2,axis = 0)"
   ]
  },
  {
   "cell_type": "code",
   "execution_count": 105,
   "metadata": {},
   "outputs": [
    {
     "data": {
      "text/plain": [
       "array([[ 13,  10,   9,  33,  41, 264],\n",
       "       [ 63,  46,  90,  42,  87, 202],\n",
       "       [ 39,  76,  13,  29,  72, 200],\n",
       "       [ 82,   9,  29,  78,  36, 218],\n",
       "       [ 67,  61,  59,  36,  92, 328]])"
      ]
     },
     "execution_count": 105,
     "metadata": {},
     "output_type": "execute_result"
    }
   ],
   "source": [
    "#ques2- iii\n",
    "summation = np.sum(marks,axis = 0)\n",
    "summation = summation.reshape(marks.shape[0],1)\n",
    "marks_updated = np.append(marks,summation,axis = 1)\n",
    "marks_updated"
   ]
  },
  {
   "cell_type": "code",
   "execution_count": 109,
   "metadata": {},
   "outputs": [
    {
     "data": {
      "text/plain": [
       "array([[ 67,  61,  59,  36,  92, 328],\n",
       "       [ 13,  10,   9,  33,  41, 264],\n",
       "       [ 82,   9,  29,  78,  36, 218],\n",
       "       [ 63,  46,  90,  42,  87, 202],\n",
       "       [ 39,  76,  13,  29,  72, 200]])"
      ]
     },
     "execution_count": 109,
     "metadata": {},
     "output_type": "execute_result"
    }
   ],
   "source": [
    "#ques2 - iv\n",
    "marks_updated[marks_updated[:,-1].argsort(axis=0)[::-1]]"
   ]
  },
  {
   "cell_type": "markdown",
   "metadata": {
    "id": "VmOyK_8klRqR"
   },
   "source": [
    "###`Q-3:` Find unique arrays from a 2D array column wise and row wise.\n",
    "```\n",
    "arr = np.array([[1,2,3,3,1,1],\n",
    "                [0,9,1,2,8,8],\n",
    "                [1,2,3,8,8,8],\n",
    "                [1,2,3,3,1,1]])\n",
    "```\n",
    "Expected Result-\n",
    "```\n",
    "Row Wise\n",
    "[[0 9 1 2 8 8]\n",
    " [1 2 3 3 1 1]\n",
    " [1 2 3 8 8 8]]\n",
    "\n",
    "Col Wise\n",
    "[[1 1 2 3 3]\n",
    " [0 8 9 1 2]\n",
    " [1 8 2 3 8]\n",
    " [1 1 2 3 3]]\n",
    "```"
   ]
  },
  {
   "cell_type": "code",
   "execution_count": 117,
   "metadata": {
    "id": "LJl10VQrlU5q"
   },
   "outputs": [
    {
     "name": "stdout",
     "output_type": "stream",
     "text": [
      "row wise unique array\n",
      " [[0 9 1 2 8 8]\n",
      " [1 2 3 3 1 1]\n",
      " [1 2 3 8 8 8]]\n",
      "column wise unique array \n",
      " [[1 1 2 3 3]\n",
      " [0 8 9 1 2]\n",
      " [1 8 2 3 8]\n",
      " [1 1 2 3 3]]\n"
     ]
    }
   ],
   "source": [
    "# code here\n",
    "# Ques3\n",
    "arr = np.array([[1,2,3,3,1,1],\n",
    "                [0,9,1,2,8,8],\n",
    "                [1,2,3,8,8,8],\n",
    "                [1,2,3,3,1,1]])\n",
    "row_wise =  np.unique(arr,axis = 0)\n",
    "column_wise = np.unique(arr,axis = 1)\n",
    "print(\"row wise unique array\\n\",row_wise)\n",
    "print(\"column wise unique array \\n\",column_wise)"
   ]
  },
  {
   "cell_type": "markdown",
   "metadata": {
    "id": "RaXwVkywlWY2"
   },
   "source": [
    "###`Q-4:` Flip given 2-D array along both axes at the same time."
   ]
  },
  {
   "cell_type": "code",
   "execution_count": 119,
   "metadata": {
    "id": "mN7-4G8Kleeq"
   },
   "outputs": [
    {
     "data": {
      "text/plain": [
       "array([[1, 2, 3, 3, 1, 1],\n",
       "       [1, 2, 3, 8, 8, 8],\n",
       "       [0, 9, 1, 2, 8, 8],\n",
       "       [1, 2, 3, 3, 1, 1]])"
      ]
     },
     "execution_count": 119,
     "metadata": {},
     "output_type": "execute_result"
    }
   ],
   "source": [
    "# code here\n",
    "arr = np.array([[1,2,3,3,1,1],\n",
    "                [0,9,1,2,8,8],\n",
    "                [1,2,3,8,8,8],\n",
    "                [1,2,3,3,1,1]])\n",
    "flip_row = np.flip(arr,axis=0)\n",
    "flip_row"
   ]
  },
  {
   "cell_type": "markdown",
   "metadata": {
    "id": "X0S7BUNTlfoq"
   },
   "source": [
    "### `Q-5:` Get row numbers of NumPy array having element larger than X.\n",
    "```\n",
    "arr = [[1,2,3,4,5],\n",
    "      [10,-3,30,4,5],\n",
    "      [3,2,5,-4,5],\n",
    "      [9,7,3,6,5]]\n",
    "\n",
    "X = 6\n",
    "```"
   ]
  },
  {
   "cell_type": "code",
   "execution_count": 133,
   "metadata": {
    "id": "bi8jRmWhlkBU"
   },
   "outputs": [
    {
     "data": {
      "text/plain": [
       "(array([1, 3], dtype=int64),)"
      ]
     },
     "execution_count": 133,
     "metadata": {},
     "output_type": "execute_result"
    }
   ],
   "source": [
    "# code here\n",
    "arr = np.array([[1,2,3,4,5],\n",
    "      [10,-3,30,4,5],\n",
    "      [3,2,5,-4,5],\n",
    "      [9,7,3,6,5]])\n",
    "x = 6\n",
    "output = np.where(np.any(arr>6,axis=1))\n",
    "output\n"
   ]
  },
  {
   "cell_type": "markdown",
   "metadata": {
    "id": "DSCQMo4mlnDG"
   },
   "source": [
    "### `Q-6:` How to convert an array of arrays into a flat 1d array?\n"
   ]
  },
  {
   "cell_type": "code",
   "execution_count": 155,
   "metadata": {
    "id": "QZhSkUT2lsJW"
   },
   "outputs": [
    {
     "data": {
      "text/plain": [
       "array([0, 1, 2, 3, 4, 5, 6, 7, 8, 9])"
      ]
     },
     "execution_count": 155,
     "metadata": {},
     "output_type": "execute_result"
    }
   ],
   "source": [
    "# These arrays are given.\n",
    "arr1 = np.arange(3)\n",
    "arr2 = np.arange(3,7)\n",
    "arr3 = np.arange(7,10)\n",
    "np.hstack((arr1,arr2,arr3))"
   ]
  },
  {
   "cell_type": "code",
   "execution_count": null,
   "metadata": {
    "id": "f42OXNrFls0I"
   },
   "outputs": [],
   "source": [
    "# code here"
   ]
  },
  {
   "cell_type": "markdown",
   "metadata": {
    "id": "A1J4oOVCluqO"
   },
   "source": [
    "### `Q-7:` You are given a array. You have to find the minimum and maximum array element and remove that from the array.\n",
    "\n",
    "```python\n",
    "import numpy as np\n",
    "\n",
    "np.random.seed(400)\n",
    "arr = np.random.randint(100, 1000, 200).reshape((1, 200))\n",
    "```"
   ]
  },
  {
   "cell_type": "code",
   "execution_count": 165,
   "metadata": {
    "id": "c6kmgtUJlybZ"
   },
   "outputs": [
    {
     "name": "stdout",
     "output_type": "stream",
     "text": [
      "original array shape (1, 200)\n",
      "final array (198,)\n"
     ]
    }
   ],
   "source": [
    "# code here\n",
    "import numpy as np\n",
    "\n",
    "# np.random.seed(400)\n",
    "arr = np.random.randint(100, 1000, 200).reshape((1, 200))\n",
    "print(\"original array shape\",arr.shape)\n",
    "maxmimum = np.max(arr)\n",
    "minimum = np.min(arr)\n",
    "arr_final = np.delete(arr,[np.argmax(arr),np.argmin(arr)])\n",
    "print(\"final array\",arr_final.shape)"
   ]
  },
  {
   "cell_type": "markdown",
   "metadata": {
    "id": "0dHN1sdnl0Jy"
   },
   "source": [
    "### `Q-8:` You are given an arrays. You have to limit this array's elements between 100 to 200. $arr ∈ [100, 700]$. So replace those values accordingly with the minimum and maximum value. Then sort the array and perform the cumulative sum of that array."
   ]
  },
  {
   "cell_type": "code",
   "execution_count": 172,
   "metadata": {
    "id": "a3YF_E-Hlza7"
   },
   "outputs": [
    {
     "data": {
      "text/plain": [
       "array([  200,   400,   600,   800,  1000,  1200,  1400,  1600,  1732,\n",
       "        1901,  2101,  2301,  2501,  2701,  2901,  3101,  3301,  3501,\n",
       "        3701,  3859,  4059,  4259,  4459,  4659,  4859,  5059,  5259,\n",
       "        5459,  5659,  5859,  6059,  6259,  6459,  6659,  6859,  7044,\n",
       "        7219,  7419,  7619,  7819,  7973,  8173,  8301,  8491,  8691,\n",
       "        8891,  9091,  9291,  9491,  9691,  9891, 10091, 10291, 10491,\n",
       "       10691, 10891, 11091, 11271, 11471, 11626, 11826, 12011, 12211,\n",
       "       12411, 12611, 12811, 13011, 13211, 13411, 13611, 13793, 13993,\n",
       "       14193, 14393, 14593, 14793, 14993, 15193, 15393, 15593, 15793,\n",
       "       15993, 16193, 16393, 16593, 16793, 16993, 17193, 17378, 17578,\n",
       "       17778, 17969, 18169, 18369, 18569, 18769, 18969, 19169, 19369,\n",
       "       19477], dtype=int32)"
      ]
     },
     "execution_count": 172,
     "metadata": {},
     "output_type": "execute_result"
    }
   ],
   "source": [
    "# code here\n",
    "arr = np.random.randint(100,700,100)\n",
    "arr_1 = np.clip(arr,a_min = 100,a_max = 200)\n",
    "# np.sort(arr_1)\n",
    "np.cumsum(arr_1)"
   ]
  },
  {
   "cell_type": "markdown",
   "metadata": {
    "id": "cXj90Susl4-I"
   },
   "source": [
    "### `Q-9:` You are given a array ($arr ∈ [0, 1]$). First you have round off the elements upto 3 decimal places and compare that\n",
    "- 0th percentile == minimum value of the array\n",
    "- 100th percentile == maximum value of the array\n",
    "- also find the difference betwen 51th percenile and 50th percentile values"
   ]
  },
  {
   "cell_type": "code",
   "execution_count": 189,
   "metadata": {
    "id": "SgBEHodgl7Lo"
   },
   "outputs": [
    {
     "data": {
      "text/plain": [
       "0.085"
      ]
     },
     "execution_count": 189,
     "metadata": {},
     "output_type": "execute_result"
    }
   ],
   "source": [
    "# code here\n",
    "sampl = np.random.uniform(low=0, high=1, size=(50,))\n",
    "arr_rounded = np.round(sampl,decimals = 3)\n",
    "zero_percentile = np.percentile(arr_rounded,0)\n",
    "hundered_percentile = np.percentile(arr_rounded,100)"
   ]
  },
  {
   "cell_type": "code",
   "execution_count": 185,
   "metadata": {},
   "outputs": [],
   "source": [
    "sampl = np.random.uniform(low=0, high=1, size=(50,))\n"
   ]
  },
  {
   "cell_type": "code",
   "execution_count": null,
   "metadata": {},
   "outputs": [],
   "source": []
  }
 ],
 "metadata": {
  "colab": {
   "provenance": []
  },
  "kernelspec": {
   "display_name": "Python 3 (ipykernel)",
   "language": "python",
   "name": "python3"
  },
  "language_info": {
   "codemirror_mode": {
    "name": "ipython",
    "version": 3
   },
   "file_extension": ".py",
   "mimetype": "text/x-python",
   "name": "python",
   "nbconvert_exporter": "python",
   "pygments_lexer": "ipython3",
   "version": "3.9.12"
  }
 },
 "nbformat": 4,
 "nbformat_minor": 1
}
